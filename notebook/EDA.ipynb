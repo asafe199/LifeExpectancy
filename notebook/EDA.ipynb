{
 "cells": [
  {
   "cell_type": "markdown",
   "metadata": {},
   "source": [
    "## 🕵️‍♂️ LifeExpectancy EDA\n",
    "\n",
    "**Description:**\n",
    "This dataset explores the factors influencing life expectancy across various countries and years, aiming to uncover patterns and disparities in health outcomes based on geographic locations. By examining key features such as adult mortality, alcohol consumption, healthcare expenditures, and socioeconomic indicators, this dataset provides insights into the complex interplay of factors shaping life expectancy worldwide.\n",
    "\n",
    "**Feature Description:**\n",
    "| Feature                          | Description                                                                                     |\n",
    "|----------------------------------|-------------------------------------------------------------------------------------------------|\n",
    "| Country                          | Name of the country                                                                             |\n",
    "| Year                             | Year of observation                                                                             |\n",
    "| Status                           | Urban or rural status                                                                           |\n",
    "| Life expectancy                  | Life expectancy at birth in years                                                               |\n",
    "| Adult Mortality                  | Probability of dying between 15 and 60 years per 1000                                           |\n",
    "| Infant deaths                    | Number of infant deaths per 1000 population                                                     |\n",
    "| Alcohol                          | Alcohol consumption, measured as liters per capita                                              |\n",
    "| Percentage expenditure           | Expenditure on health as a percentage of GDP                                                    |\n",
    "| Hepatitis B                      | Hepatitis B immunization coverage among 1-year-olds (%)                                          |\n",
    "| Measles                          | Number of reported measles cases per 1000 population                                             |\n",
    "| BMI                              | Average Body Mass Index of the population                                                        |\n",
    "| Under-five deaths                | Number of deaths under age five per 1000 population                                              |\n",
    "| Polio                            | Polio immunization coverage among 1-year-olds (%)                                                |\n",
    "| Total expenditure                | Total government health expenditure as a percentage of GDP                                       |\n",
    "| Diphtheria                       | Diphtheria tetanus toxoid and pertussis immunization coverage among 1-year-olds (%)             |\n",
    "| HIV/AIDS                         | Deaths per 1 000 live births due to HIV/AIDS (0-4 years)                                         |\n",
    "| GDP                              | Gross Domestic Product per capita (in USD)                                                       |\n",
    "| Population                       | Population of the country                                                                        |\n",
    "| Thinness 1-19 years              | Prevalence of thinness among children and adolescents aged 10–19 (%)                             |\n",
    "| Thinness 5-9 years               | Prevalence of thinness among children aged 5–9 (%)                                               |\n",
    "| Income composition of resources  | Human Development Index in terms of income composition of resources (0 to 1)                      |\n",
    "| Schooling                        | Number of years of schooling                                                                   |\n",
    "\n",
    "**Source:**\n",
    "World Health Organization (WHO), United Nations (UN), World Bank, etc.\n",
    "\n",
    "### 📊 Business Questions\n",
    "\n",
    "**1.** What are the main factors that influence life expectancy in different countries?\n",
    "\n",
    "ANS: *\n",
    "\n",
    "**2.** How has life expectancy changed over time in countries with different socioeconomic statuses?\n",
    "\n",
    "ANS: *\n",
    "\n",
    "**3.** What is the relationship between healthcare expenditure and life expectancy?\n",
    "\n",
    "ANS: *\n",
    "\n",
    "**4.** Is there a correlation between immunization coverage (Hepatitis B, Polio, Diphtheria) and life expectancy?\n",
    "\n",
    "ANS: *\n",
    "\n",
    "**5.** How does alcohol consumption affect life expectancy in different regions?\n",
    "\n",
    "ANS: *\n",
    "\n"
   ]
  },
  {
   "cell_type": "markdown",
   "metadata": {},
   "source": [
    "### 🔍 Data Analysis Steps\n",
    "\n",
    "#### 1. Data Import and Preprocessing\n",
    "\n",
    "- Import data from CSV.\n",
    "- Clean data (handling missing values, duplicate data, etc.)."
   ]
  },
  {
   "cell_type": "code",
   "execution_count": null,
   "metadata": {},
   "outputs": [],
   "source": []
  },
  {
   "cell_type": "markdown",
   "metadata": {},
   "source": [
    "#### 2. Exploratory Data Analysis (EDA)\n",
    "\n",
    "- Descriptive statistics.\n",
    "- Data visualization to identify patterns and trends.\n",
    "- Correlation analysis between variables."
   ]
  },
  {
   "cell_type": "code",
   "execution_count": null,
   "metadata": {},
   "outputs": [],
   "source": []
  },
  {
   "cell_type": "markdown",
   "metadata": {},
   "source": [
    "#### 3. Specific Analysis to Answer Questions\n",
    "\n",
    "- Use clustering techniques to identify factors influencing life expectancy.\n",
    "- Perform temporal analysis to observe changes in life expectancy over the years.\n",
    "- Conduct regression analysis to investigate the relationship between healthcare expenditure and life expectancy.\n",
    "- Analyze the correlation between immunizations and life expectancy.\n",
    "- Perform regional analysis on the impact of alcohol consumption on life expectancy."
   ]
  },
  {
   "cell_type": "code",
   "execution_count": null,
   "metadata": {},
   "outputs": [],
   "source": []
  },
  {
   "cell_type": "markdown",
   "metadata": {},
   "source": [
    "### 🛠️ Tools Used\n",
    "\n",
    "- Python\n",
    "- Libraries: Pandas, NumPy, Matplotlib, Seaborn, Scikit-learn"
   ]
  }
 ],
 "metadata": {
  "kernelspec": {
   "display_name": "Python 3",
   "language": "python",
   "name": "python3"
  },
  "language_info": {
   "name": "python",
   "version": "3.11.9"
  }
 },
 "nbformat": 4,
 "nbformat_minor": 2
}
